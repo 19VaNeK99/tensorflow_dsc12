{
 "cells": [
  {
   "cell_type": "markdown",
   "metadata": {},
   "source": [
    "# Reinforced Learning Challenge Starting Kit"
   ]
  },
  {
   "cell_type": "markdown",
   "metadata": {},
   "source": [
    "#### Challnge description\n",
    "Challenge task is to implement an algorithm which will learn to choose the best route for collecting a grocery basket.\n",
    "\n",
    "#### Datasets description\n",
    "\n",
    "There are no datasets\n",
    "\n",
    "#### Starting Kit description\n",
    "This starting kit helps participants to begin with challenge in a few minutes."
   ]
  },
  {
   "cell_type": "markdown",
   "metadata": {},
   "source": [
    "## Ingestion of sample submission\n",
    "\n",
    "Ingestion stage is used to "
   ]
  },
  {
   "cell_type": "code",
   "execution_count": 1,
   "metadata": {},
   "outputs": [
    {
     "name": "stdout",
     "output_type": "stream",
     "text": [
      "3.8.3\n"
     ]
    }
   ],
   "source": [
    "from platform import python_version\n",
    "\n",
    "print(python_version())"
   ]
  },
  {
   "cell_type": "code",
   "execution_count": null,
   "metadata": {
    "tags": []
   },
   "outputs": [],
   "source": [
    "ingestion_dir = 'ingestion_program/'\n",
    "input_dir = 'sample_data'\n",
    "agent_dir = 'sample_code_submission/'\n",
    "output_dir = 'sample_result_submission'\n",
    "!python $ingestion_dir/ingestion_public.py $ingestion_dir $input_dir $output_dir $agent_dir"
   ]
  },
  {
   "cell_type": "markdown",
   "metadata": {},
   "source": [
    "## Scoring of sample code submission"
   ]
  },
  {
   "cell_type": "code",
   "execution_count": null,
   "metadata": {
    "scrolled": true,
    "tags": []
   },
   "outputs": [],
   "source": [
    "scoring_dir = 'scoring_program/'\n",
    "!python $scoring_dir/score_public.py"
   ]
  },
  {
   "cell_type": "markdown",
   "metadata": {},
   "source": [
    "## Example of interaction with an agent"
   ]
  },
  {
   "cell_type": "code",
   "execution_count": null,
   "metadata": {},
   "outputs": [],
   "source": [
    "from sys import path\n",
    "\n",
    "path.append(ingestion_dir)\n",
    "from core import Game\n",
    "\n",
    "path.append(agent_dir)\n",
    "from agent import agent, train"
   ]
  },
  {
   "cell_type": "code",
   "execution_count": null,
   "metadata": {},
   "outputs": [],
   "source": [
    "g = Game(5, 5, 5)\n",
    "train(g)\n",
    "#agent(g)\n",
    "for i in g.GetCurrentState()[0]:\n",
    "    for j in i:\n",
    "        print(j.ToString())\n",
    "    print()\n",
    "print('score:', g.GetCurrentState()[1])\n",
    "print('steps:', g.steps)"
   ]
  },
  {
   "cell_type": "code",
   "execution_count": null,
   "metadata": {},
   "outputs": [],
   "source": []
  }
 ],
 "metadata": {
  "kernelspec": {
   "display_name": "Python 3",
   "language": "python",
   "name": "python3"
  },
  "language_info": {
   "codemirror_mode": {
    "name": "ipython",
    "version": 3
   },
   "file_extension": ".py",
   "mimetype": "text/x-python",
   "name": "python",
   "nbconvert_exporter": "python",
   "pygments_lexer": "ipython3",
   "version": "3.8.3"
  }
 },
 "nbformat": 4,
 "nbformat_minor": 4
}
