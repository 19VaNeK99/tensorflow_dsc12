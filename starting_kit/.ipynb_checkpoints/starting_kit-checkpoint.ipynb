{
 "cells": [
  {
   "cell_type": "markdown",
   "metadata": {},
   "source": [
    "# Reinforced Learning Challenge Starting Kit"
   ]
  },
  {
   "cell_type": "markdown",
   "metadata": {},
   "source": [
    "#### Challnge description\n",
    "Challenge task is to implement an algorithm which will learn to choose the best route for collecting a grocery basket.\n",
    "\n",
    "#### Datasets description\n",
    "\n",
    "There are no datasets\n",
    "\n",
    "#### Starting Kit description\n",
    "This starting kit helps participants to begin with challenge in a few minutes."
   ]
  },
  {
   "cell_type": "markdown",
   "metadata": {},
   "source": [
    "## Ingestion of sample submission\n",
    "\n",
    "Ingestion stage is used to "
   ]
  },
  {
   "cell_type": "code",
   "execution_count": 1,
   "metadata": {
    "tags": []
   },
   "outputs": [
    {
     "name": "stderr",
     "output_type": "stream",
     "text": [
      "INFO:root:\n",
      "****** Ingestion program version 1 ******\n",
      "\n",
      "\n",
      "INFO:root:Using program_dir: C:\\Users\\Petr\\Desktop\\work\\shop\\starting_kit\\ingestion_program\n",
      "INFO:root:Using input_dir: C:\\Users\\Petr\\Desktop\\work\\shop\\starting_kit\\sample_data\n",
      "INFO:root:Using output_dir: C:\\Users\\Petr\\Desktop\\work\\shop\\starting_kit\\sample_result_submission\n",
      "INFO:root:Using submission_dir: C:\\Users\\Petr\\Desktop\\work\\shop\\starting_kit\\sample_code_submission\n",
      "INFO:root:GOOD GAME!!!\n"
     ]
    }
   ],
   "source": [
    "ingestion_dir = 'ingestion_program/'\n",
    "input_dir = 'sample_data'\n",
    "agent_dir = 'sample_code_submission/'\n",
    "output_dir = 'sample_result_submission'\n",
    "!python $ingestion_dir/ingestion_public.py $ingestion_dir $input_dir $output_dir $agent_dir"
   ]
  },
  {
   "cell_type": "markdown",
   "metadata": {},
   "source": [
    "## Scoring of sample code submission"
   ]
  },
  {
   "cell_type": "code",
   "execution_count": 2,
   "metadata": {
    "scrolled": true,
    "tags": []
   },
   "outputs": [
    {
     "name": "stderr",
     "output_type": "stream",
     "text": [
      "INFO:root:\n",
      "****** Scoring program version 1 ******\n",
      "\n",
      "\n",
      "INFO:root:Using program_dir: scoring_program\n",
      "INFO:root:Using output_dir: scoring_output\n",
      "INFO:root:Using ref_dir: sample_reference_data\n",
      "INFO:root:Using res_dir: sample_result_submission\n",
      "INFO:root:Total score: 128.58654176598498\n"
     ]
    }
   ],
   "source": [
    "scoring_dir = 'scoring_program/'\n",
    "!python $scoring_dir/score_public.py"
   ]
  },
  {
   "cell_type": "markdown",
   "metadata": {},
   "source": [
    "## Example of interaction with an agent"
   ]
  },
  {
   "cell_type": "code",
   "execution_count": 3,
   "metadata": {},
   "outputs": [],
   "source": [
    "from sys import path\n",
    "\n",
    "path.append(ingestion_dir)\n",
    "from core import Game\n",
    "\n",
    "path.append(agent_dir)\n",
    "from agent import agent"
   ]
  },
  {
   "cell_type": "code",
   "execution_count": 4,
   "metadata": {},
   "outputs": [
    {
     "name": "stdout",
     "output_type": "stream",
     "text": [
      "score: 0.0\n",
      "steps: ['up', 'down', 'right', 'up', 'up', 'down', 'up', 'down', 'down']\n"
     ]
    }
   ],
   "source": [
    "g = Game(5, 5, 5)\n",
    "\n",
    "agent(g)\n",
    "print('score:', g.GetCurrentState()[1])\n",
    "print('steps:', g.steps)"
   ]
  },
  {
   "cell_type": "code",
   "execution_count": null,
   "metadata": {},
   "outputs": [],
   "source": []
  }
 ],
 "metadata": {
  "kernelspec": {
   "display_name": "Python 3",
   "language": "python",
   "name": "python3"
  },
  "language_info": {
   "codemirror_mode": {
    "name": "ipython",
    "version": 3
   },
   "file_extension": ".py",
   "mimetype": "text/x-python",
   "name": "python",
   "nbconvert_exporter": "python",
   "pygments_lexer": "ipython3",
   "version": "3.8.3"
  }
 },
 "nbformat": 4,
 "nbformat_minor": 4
}
